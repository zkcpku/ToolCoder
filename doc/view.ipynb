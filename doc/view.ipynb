{
 "cells": [
  {
   "cell_type": "code",
   "execution_count": 17,
   "metadata": {},
   "outputs": [],
   "source": [
    "import json\n",
    "import re\n",
    "def clean_string(s):\n",
    "    s = s.lower().split()\n",
    "    s = [re.sub('\\W*', '', e) for e in s]\n",
    "    s = [e for e in s if len(e) > 0]\n",
    "    s = \" \".join(s)\n",
    "    return s\n"
   ]
  },
  {
   "cell_type": "code",
   "execution_count": 31,
   "metadata": {},
   "outputs": [],
   "source": [
    "with open(\"/Users/zkcpku/Documents/seke/pretrain/FastAPI/doc/beatnum_api.json\",'r') as f:\n",
    "    tmp = f.readlines()\n",
    "tmp = [json.loads(e) for e in tmp]"
   ]
  },
  {
   "cell_type": "code",
   "execution_count": 32,
   "metadata": {},
   "outputs": [],
   "source": [
    "beat_num_doc2api = {}\n",
    "for e in tmp:\n",
    "    doc = e['text'].split(\":\")[-1]\n",
    "    doc = clean_string(doc)\n",
    "    api = e['text'].split(\"(\")[0]\n",
    "    beat_num_doc2api[doc] = api"
   ]
  },
  {
   "cell_type": "code",
   "execution_count": 34,
   "metadata": {},
   "outputs": [],
   "source": [
    "with open(\"beatnum_doc2api.json\",'w') as f:\n",
    "    json.dump(beat_num_doc2api, f)"
   ]
  },
  {
   "cell_type": "code",
   "execution_count": 36,
   "metadata": {},
   "outputs": [
    {
     "data": {
      "text/plain": [
       "['return a numset',\n",
       " 'stack_colargs kwargs return a 2d numset stacked with 1d numsets by column',\n",
       " 'return a numset concatenated with given numsets along the specified axis',\n",
       " 'returns a piece object used to specify how to slice a sequence',\n",
       " 'return the sum of the numset items along a particular axis',\n",
       " 'get the complex arguments imaginary part',\n",
       " 'return the absolute value of the given number',\n",
       " 'fill the main diagonal of any dimensions of the specified numset',\n",
       " 'determine if all matrix members along a particular axis are true',\n",
       " 'make a record numset out of binary data do not pass str object',\n",
       " 'determine if each element of a 1d numset appears in a second numset',\n",
       " 'calculate the given axiss arithmetic average value',\n",
       " 'filter_conditioncondition x y depending on the condition return items from x or y',\n",
       " 'return the numset elements standard deviation value of the specified axis',\n",
       " 'changes the shape of a numset without affecting its data',\n",
       " 'turn a flattened list of numsets into a record numset',\n",
       " 'pile_operationargs kwargs return a numset connected with a series of numsets along a new axis',\n",
       " 'return a datasets histgram object',\n",
       " 'return the elements total sum along the specified axis',\n",
       " 'return the sorted unique values that are in only one of the input numsets',\n",
       " 'return the two numsets elementwise string or unicode concatenation',\n",
       " 'replace the input numset with its masked data filled by the specified value',\n",
       " 'return a 1d numset containing all nonmasked data',\n",
       " 'cast the numset to a specified type',\n",
       " 'returns the minimum values indices along the specified axis',\n",
       " 'arr_rangestart stop step dtypenone likenone return values that are uniformly spread inside a particular interval',\n",
       " 'stack numsets in vertical or row wise order',\n",
       " 'stack numsets in horizontal or column wise order',\n",
       " 'remove axes of length one',\n",
       " 'return a masked numset of specified datatype',\n",
       " 'return the numset with specified duplicates',\n",
       " 'return a tuple of coordinate numsets converted from a flat index or numset',\n",
       " 'vectorisationpyfunc otypesnone docnone excludednone cachefalse signaturenone define a vectorized function which takes a nested sequence of objects or beatnum numsets as inputs and returns a single beatnum numset',\n",
       " 'return words of the input string using the specified delimiter',\n",
       " 'return the given axiss nth discrete difference',\n",
       " 'logic_and_element_wisex1 x2 outnone wheretrue castingsame_kind orderk dtypenone suboktrue signature extobj calculate the elementbyelement truth value of x1 and x2',\n",
       " 'return a onedimensional numset replica of the numset',\n",
       " 'return the numsets unique elements',\n",
       " 'return one of eight different matrix norms or one of an infinite number of vector norms',\n",
       " 'deleted subnumsets along an axis',\n",
       " 'create a new numset of specified shape and type and fill it with ones',\n",
       " 'return how many times each value appears in the numset of nonnegative ints',\n",
       " 'returns an axiss maximum values indices',\n",
       " 'place the object at last position of the list',\n",
       " 'check if any numset element on a certain axis evaluates to true',\n",
       " 'if x is a nan not a number return true otherwise return false',\n",
       " 'using the algorithm indicated by the kind keyword to indirectly partition along the axis',\n",
       " 'asviewself orderc returns the view object of the 1d self',\n",
       " 'divide a numset into several subnumsets',\n",
       " 'calculate a matrixs multiplicative inverse',\n",
       " 'place the object before the index',\n",
       " 'find the indices into a sorted numset a such that if the corresponding elements in v were inserted before the indices the order of a would be preserved',\n",
       " 'get the smallest value in a numset or the smallest value along an axis',\n",
       " 'masked fill with fill value and return a new numset of the specified form and type',\n",
       " 'returns the changed numset after reversing or permuting the axes of a numset']"
      ]
     },
     "execution_count": 36,
     "metadata": {},
     "output_type": "execute_result"
    }
   ],
   "source": []
  },
  {
   "cell_type": "code",
   "execution_count": 3,
   "metadata": {},
   "outputs": [
    {
     "data": {
      "text/plain": [
       "{'text_id': 1300000,\n",
       " 'text': 'numset(obj, itemsize=None, copy=True, unicode=None, order=None): Return a `numset`.'}"
      ]
     },
     "execution_count": 3,
     "metadata": {},
     "output_type": "execute_result"
    }
   ],
   "source": [
    "tmp[0]"
   ]
  },
  {
   "cell_type": "code",
   "execution_count": 4,
   "metadata": {},
   "outputs": [],
   "source": [
    "from rank_bm25 import BM25Okapi\n",
    "\n",
    "corpus = [\n",
    "    \"Hello there good man!\",\n",
    "    \"It is quite windy in London\",\n",
    "    \"How is the weather today?\"\n",
    "]\n",
    "\n",
    "tokenized_corpus = [doc.split(\" \") for doc in corpus]\n",
    "\n",
    "bm25 = BM25Okapi(tokenized_corpus)"
   ]
  },
  {
   "cell_type": "code",
   "execution_count": 5,
   "metadata": {},
   "outputs": [
    {
     "data": {
      "text/plain": [
       "['It is quite windy in London']"
      ]
     },
     "execution_count": 5,
     "metadata": {},
     "output_type": "execute_result"
    }
   ],
   "source": [
    "query = \"windy London\"\n",
    "tokenized_query = query.split(\" \")\n",
    "bm25.get_top_n(tokenized_query, corpus, n=1)"
   ]
  },
  {
   "cell_type": "code",
   "execution_count": null,
   "metadata": {},
   "outputs": [],
   "source": []
  }
 ],
 "metadata": {
  "kernelspec": {
   "display_name": "treesitter",
   "language": "python",
   "name": "python3"
  },
  "language_info": {
   "codemirror_mode": {
    "name": "ipython",
    "version": 3
   },
   "file_extension": ".py",
   "mimetype": "text/x-python",
   "name": "python",
   "nbconvert_exporter": "python",
   "pygments_lexer": "ipython3",
   "version": "3.6.13"
  },
  "orig_nbformat": 4
 },
 "nbformat": 4,
 "nbformat_minor": 2
}
